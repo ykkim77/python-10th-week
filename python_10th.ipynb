{
  "nbformat": 4,
  "nbformat_minor": 0,
  "metadata": {
    "colab": {
      "provenance": [],
      "authorship_tag": "ABX9TyN8zwoAS4atdvVRhvg5okf1",
      "include_colab_link": true
    },
    "kernelspec": {
      "name": "python3",
      "display_name": "Python 3"
    },
    "language_info": {
      "name": "python"
    }
  },
  "cells": [
    {
      "cell_type": "markdown",
      "metadata": {
        "id": "view-in-github",
        "colab_type": "text"
      },
      "source": [
        "<a href=\"https://colab.research.google.com/github/ykkim77/python-10th-week/blob/master/python_10th.ipynb\" target=\"_parent\"><img src=\"https://colab.research.google.com/assets/colab-badge.svg\" alt=\"Open In Colab\"/></a>"
      ]
    },
    {
      "cell_type": "markdown",
      "metadata": {
        "id": "0QeyTt3FwuFn"
      },
      "source": [
        "# 클래스의 정의"
      ]
    },
    {
      "cell_type": "code",
      "metadata": {
        "id": "IvQsXP2hWcu2"
      },
      "source": [
        "class Robot:\n",
        "    pass"
      ],
      "execution_count": 12,
      "outputs": []
    },
    {
      "cell_type": "markdown",
      "metadata": {
        "id": "8Gi2D_WVMSaQ"
      },
      "source": [
        "## 객체의 생성"
      ]
    },
    {
      "cell_type": "code",
      "metadata": {
        "id": "exl2wMuuD2Dr"
      },
      "source": [
        "r1 = Robot()\n",
        "r2 = Robot()"
      ],
      "execution_count": 13,
      "outputs": []
    },
    {
      "cell_type": "markdown",
      "metadata": {
        "id": "6_tUg7bwMh85"
      },
      "source": [
        "## 클래스의 구성요소"
      ]
    },
    {
      "cell_type": "code",
      "source": [
        "class Robot:\n",
        "    robot_model = \"t800\"  # 클래스 변수\n",
        "\n",
        "    def set_position(self, x, y):   # 메서드(method)\n",
        "        self.x = x       # 인스턴스 변수\n",
        "        self.y = y       # 인스턴수 변수\n",
        "\n",
        "    def forward(self, a, b):   # 앞으로 이동\n",
        "        self.x += a    #  a 만큼 앞으로\n",
        "        self.y += b    # b 만큼 앞으로\n",
        "\n",
        "\n",
        "    def backward(self, a, b):   # 앞으로 이동\n",
        "        self.x -= a    #  a 만큼 뒤로\n",
        "        self.y -= b    # b 만큼 뒤로"
      ],
      "metadata": {
        "id": "EmKBneCyZERU"
      },
      "execution_count": 15,
      "outputs": []
    },
    {
      "cell_type": "markdown",
      "source": [
        "**클래스 변수와 인스턴스 변수의 비교**\n",
        "\n"
      ],
      "metadata": {
        "id": "M6jutQpWbTVP"
      }
    },
    {
      "cell_type": "code",
      "source": [
        "r1 = Robot()\n",
        "r2 = Robot()\n",
        "\n",
        "r1.robot_model=\"t5000\"   # 인스턴스 변수\n",
        "\n",
        "print(r1.robot_model)\n",
        "print(r2.robot_model)    # 클래스 변수"
      ],
      "metadata": {
        "colab": {
          "base_uri": "https://localhost:8080/"
        },
        "id": "uAMzvfPgdwVk",
        "outputId": "a76bd505-4b44-4142-fd8b-51696e094585"
      },
      "execution_count": 16,
      "outputs": [
        {
          "output_type": "stream",
          "name": "stdout",
          "text": [
            "t5000\n",
            "t800\n"
          ]
        }
      ]
    },
    {
      "cell_type": "code",
      "source": [
        "r1.set_position(100, 200)    # 객체 메서드를 이용한 인스턴스 변수 설정\n",
        "r2.set_position(300, 400)    # 객체 메서드를 이용한 인스턴스 변수 설정\n",
        "\n",
        "print(r1.x, r1.y)\n",
        "print(r2.x, r2.y)"
      ],
      "metadata": {
        "colab": {
          "base_uri": "https://localhost:8080/"
        },
        "id": "lN1Dq9yVeZnF",
        "outputId": "c65c0876-8fbf-4156-e175-b1eb0d4046b5"
      },
      "execution_count": 17,
      "outputs": [
        {
          "output_type": "stream",
          "name": "stdout",
          "text": [
            "100 200\n",
            "300 400\n"
          ]
        }
      ]
    },
    {
      "cell_type": "markdown",
      "source": [
        "**메서드의 사용**"
      ],
      "metadata": {
        "id": "A_zPCeSbe7F9"
      }
    },
    {
      "cell_type": "code",
      "source": [
        "r1.forward(10, 10)\n",
        "print(r1.x, r1.y)\n",
        "\n",
        "r2.backward(10,10)\n",
        "print(r2.x, r2.y)"
      ],
      "metadata": {
        "colab": {
          "base_uri": "https://localhost:8080/"
        },
        "id": "KOnEJNN7fFlT",
        "outputId": "bcaa63a6-03a4-4587-cf1b-57f3e09df3f9"
      },
      "execution_count": 18,
      "outputs": [
        {
          "output_type": "stream",
          "name": "stdout",
          "text": [
            "110 210\n",
            "290 390\n"
          ]
        }
      ]
    },
    {
      "cell_type": "markdown",
      "metadata": {
        "id": "lY4Rnes73aHD"
      },
      "source": [
        "# 계산기 클래스 만들기"
      ]
    },
    {
      "cell_type": "code",
      "source": [],
      "metadata": {
        "id": "weEQb_tNbM-1"
      },
      "execution_count": null,
      "outputs": []
    },
    {
      "cell_type": "code",
      "metadata": {
        "id": "akKKrcaNXT2S"
      },
      "source": [
        "class FourCal:\n",
        "    num = 0\n",
        "    def setdata(self, first, second):\n",
        "        FourCal.num += 1\n",
        "        self.first = first\n",
        "        self.second = second\n",
        "    def add(self):\n",
        "        result = self.first + self.second\n",
        "        return result\n",
        "    def mul(self):\n",
        "        result = self.first * self.second\n",
        "        return result\n",
        "    def sub(self):\n",
        "        result = self.first - self.second\n",
        "        return result\n",
        "    def div(self):\n",
        "        result = self.first / self.second\n",
        "        return result\n"
      ],
      "execution_count": 19,
      "outputs": []
    },
    {
      "cell_type": "code",
      "metadata": {
        "id": "9sNK5fy04sL1",
        "colab": {
          "base_uri": "https://localhost:8080/"
        },
        "outputId": "e3656a3d-6fa7-461c-a095-f900bd42c1ae"
      },
      "source": [
        "a = FourCal()\n",
        "b = FourCal()\n",
        "a.setdata(4, 2)\n",
        "b.setdata(3, 8)\n",
        "\n",
        "print(\"a.add() = \",a.add())\n",
        "print(\"a.mul() = \",a.mul())\n",
        "print(\"a.sub() = \",a.sub())\n",
        "print(\"a.div() = \",a.div())\n",
        "print(\"b.add() = \",b.add())\n",
        "print(\"b.mul() = \",b.mul())\n",
        "print(\"b.sub() = \",b.sub())\n",
        "print(\"b.div() = \",b.div())"
      ],
      "execution_count": 20,
      "outputs": [
        {
          "output_type": "stream",
          "name": "stdout",
          "text": [
            "a.add() =  6\n",
            "a.mul() =  8\n",
            "a.sub() =  2\n",
            "a.div() =  2.0\n",
            "b.add() =  11\n",
            "b.mul() =  24\n",
            "b.sub() =  -5\n",
            "b.div() =  0.375\n"
          ]
        }
      ]
    }
  ]
}